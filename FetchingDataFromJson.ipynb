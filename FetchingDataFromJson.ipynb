{
 "cells": [
  {
   "cell_type": "code",
   "execution_count": null,
   "id": "70e6507a",
   "metadata": {},
   "outputs": [],
   "source": [
    "import requests\n",
    "\n",
    "products_url = requests.get(\"https://dummyjson.com/products\")\n",
    "products = products_url.json()\n",
    "pA = products[\"products\"]\n",
    "arrLen = len(pA)\n",
    "res = dict()\n",
    "for i in range(0, arrLen):\n",
    "    category = pA[i]['category']\n",
    "    brand = pA[i]['brand']\n",
    "    title = pA[i]['title']\n",
    "    if brand not in res:\n",
    "        res[brand] = []\n",
    "    res[brand].append(title)\n",
    "res    "
   ]
  },
  {
   "cell_type": "code",
   "execution_count": 6,
   "id": "b03609ef",
   "metadata": {},
   "outputs": [],
   "source": [
    "import requests\n",
    "\n",
    "response = requests.get(\"https://dummyjson.com/products\")\n",
    "products= response.json()\n",
    "pA = products[\"products\"]\n",
    "arrLen = len(pA)\n",
    "res = dict()\n",
    "for i in range(0,arrLen):\n",
    "    category = pA[i]['category']\n",
    "    brand = pA[i]['brand']\n",
    "    title = pA[i]['title']\n",
    "    if category not in res:\n",
    "        res[category] = {}\n",
    "    if brand not in res[category]:\n",
    "        res[category][brand] = []\n",
    "    res[category][brand].append(title)\n"
   ]
  },
  {
   "cell_type": "code",
   "execution_count": null,
   "id": "a6eebb41",
   "metadata": {},
   "outputs": [],
   "source": [
    "import requests\n",
    "\n",
    "products_url = requests.get(\"https://dummyjson.com/products\")\n",
    "products = products_url.json()\n",
    "pA = products[\"products\"]\n",
    "arr_len = len(pA)\n",
    "res = dict()\n",
    "for i in range(0,arr_len):\n",
    "    category = pA[i][\"category\"]\n",
    "    brand = pA[i][\"brand\"]\n",
    "    title = pA[i][\"title\"]\n",
    "    description = pA[i][\"description\"]\n",
    "    price = pA[i][\"price\"]\n",
    "    if category not in res:\n",
    "        res[category] = {}\n",
    "    if brand not in res[category]:\n",
    "        res[category][brand] = []\n",
    "    res[category][brand].append({\"title\":title, \"description\":description,\"Price\":price})    \n",
    "        \n",
    "res  "
   ]
  }
 ],
 "metadata": {
  "kernelspec": {
   "display_name": "Python 3 (ipykernel)",
   "language": "python",
   "name": "python3"
  },
  "language_info": {
   "codemirror_mode": {
    "name": "ipython",
    "version": 3
   },
   "file_extension": ".py",
   "mimetype": "text/x-python",
   "name": "python",
   "nbconvert_exporter": "python",
   "pygments_lexer": "ipython3",
   "version": "3.10.9"
  }
 },
 "nbformat": 4,
 "nbformat_minor": 5
}
